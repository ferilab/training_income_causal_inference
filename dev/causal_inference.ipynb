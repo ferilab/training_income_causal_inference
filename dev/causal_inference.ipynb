{
 "cells": [
  {
   "cell_type": "markdown",
   "id": "56fa20f9-9b82-4289-8c03-f3cc50454a95",
   "metadata": {},
   "source": [
    "Causal inference on real data.\n",
    "\n",
    "About Dataset (from Kaggle)\n",
    "\n",
    "Famous dataset to estimate the impact of a training program (National Supported Work Demonstration) on the income of beneficiaries in 1978.\n",
    "Most variables are selfexplanatory except the following:\n",
    "\n",
    "treat = Treatment indicator: if the individual participated in the job training program, 0 if not (control group).\n",
    "\n",
    "re74 = Real earnings in 1974 (pre-treatment): Income from a year before the program started.\n",
    "\n",
    "re75 = Real earnings in 1975 (pre-treatment): Another pre-treatment income measure, useful to control for prior economic status.\n",
    "\n",
    "re78 = Real earnings in 1978 (post-treatment): The outcome variable. It measures how much a person earned after the job training, used to assess the program’s effect.\n",
    "\n",
    "Note: re74 and re75 are important because they are key covariates (confounders) — people with higher prior earnings might be more likely to succeed in the future regardless of training. So we control for them to isolate the training's true impact."
   ]
  },
  {
   "cell_type": "code",
   "execution_count": 99,
   "id": "7c01ec0a-306b-4b27-bba4-611c56b6bcc1",
   "metadata": {},
   "outputs": [],
   "source": []
  },
  {
   "cell_type": "code",
   "execution_count": 2,
   "id": "3a0cc5d6-9599-4d40-ab3c-0597259c25f6",
   "metadata": {},
   "outputs": [],
   "source": [
    "# General required libraries\n",
    "import pandas as pd\n",
    "import sys\n",
    "import os\n",
    "import warnings\n",
    "\n",
    "# Function needed for causal infenece by python dowhy \n",
    "from dowhy import CausalModel\n",
    "\n",
    "# And libraries required for the alternative method\n",
    "from sklearn.linear_model import LogisticRegression\n",
    "from sklearn.neighbors import NearestNeighbors\n",
    "import numpy as np\n",
    "\n",
    "# Let's set the package's root path in the system\n",
    "sys.path.append(os.path.abspath(\"..\"))\n",
    "package_root = os.path.abspath(\"..\")\n",
    "\n",
    "warnings.filterwarnings('ignore')"
   ]
  },
  {
   "cell_type": "code",
   "execution_count": 3,
   "id": "92b7b89c-a851-4b48-900a-60e9984d998e",
   "metadata": {},
   "outputs": [
    {
     "data": {
      "text/html": [
       "<div>\n",
       "<style scoped>\n",
       "    .dataframe tbody tr th:only-of-type {\n",
       "        vertical-align: middle;\n",
       "    }\n",
       "\n",
       "    .dataframe tbody tr th {\n",
       "        vertical-align: top;\n",
       "    }\n",
       "\n",
       "    .dataframe thead th {\n",
       "        text-align: right;\n",
       "    }\n",
       "</style>\n",
       "<table border=\"1\" class=\"dataframe\">\n",
       "  <thead>\n",
       "    <tr style=\"text-align: right;\">\n",
       "      <th></th>\n",
       "      <th>treat</th>\n",
       "      <th>age</th>\n",
       "      <th>educ</th>\n",
       "      <th>black</th>\n",
       "      <th>hispan</th>\n",
       "      <th>married</th>\n",
       "      <th>nodegree</th>\n",
       "      <th>re74</th>\n",
       "      <th>re75</th>\n",
       "      <th>re78</th>\n",
       "    </tr>\n",
       "  </thead>\n",
       "  <tbody>\n",
       "    <tr>\n",
       "      <th>0</th>\n",
       "      <td>1</td>\n",
       "      <td>37</td>\n",
       "      <td>11</td>\n",
       "      <td>1</td>\n",
       "      <td>0</td>\n",
       "      <td>1</td>\n",
       "      <td>1</td>\n",
       "      <td>0.0</td>\n",
       "      <td>0.0</td>\n",
       "      <td>9930.0460</td>\n",
       "    </tr>\n",
       "    <tr>\n",
       "      <th>1</th>\n",
       "      <td>1</td>\n",
       "      <td>22</td>\n",
       "      <td>9</td>\n",
       "      <td>0</td>\n",
       "      <td>1</td>\n",
       "      <td>0</td>\n",
       "      <td>1</td>\n",
       "      <td>0.0</td>\n",
       "      <td>0.0</td>\n",
       "      <td>3595.8940</td>\n",
       "    </tr>\n",
       "    <tr>\n",
       "      <th>2</th>\n",
       "      <td>1</td>\n",
       "      <td>30</td>\n",
       "      <td>12</td>\n",
       "      <td>1</td>\n",
       "      <td>0</td>\n",
       "      <td>0</td>\n",
       "      <td>0</td>\n",
       "      <td>0.0</td>\n",
       "      <td>0.0</td>\n",
       "      <td>24909.4500</td>\n",
       "    </tr>\n",
       "    <tr>\n",
       "      <th>3</th>\n",
       "      <td>1</td>\n",
       "      <td>27</td>\n",
       "      <td>11</td>\n",
       "      <td>1</td>\n",
       "      <td>0</td>\n",
       "      <td>0</td>\n",
       "      <td>1</td>\n",
       "      <td>0.0</td>\n",
       "      <td>0.0</td>\n",
       "      <td>7506.1460</td>\n",
       "    </tr>\n",
       "    <tr>\n",
       "      <th>4</th>\n",
       "      <td>1</td>\n",
       "      <td>33</td>\n",
       "      <td>8</td>\n",
       "      <td>1</td>\n",
       "      <td>0</td>\n",
       "      <td>0</td>\n",
       "      <td>1</td>\n",
       "      <td>0.0</td>\n",
       "      <td>0.0</td>\n",
       "      <td>289.7899</td>\n",
       "    </tr>\n",
       "  </tbody>\n",
       "</table>\n",
       "</div>"
      ],
      "text/plain": [
       "   treat  age  educ  black  hispan  married  nodegree  re74  re75        re78\n",
       "0      1   37    11      1       0        1         1   0.0   0.0   9930.0460\n",
       "1      1   22     9      0       1        0         1   0.0   0.0   3595.8940\n",
       "2      1   30    12      1       0        0         0   0.0   0.0  24909.4500\n",
       "3      1   27    11      1       0        0         1   0.0   0.0   7506.1460\n",
       "4      1   33     8      1       0        0         1   0.0   0.0    289.7899"
      ]
     },
     "execution_count": 3,
     "metadata": {},
     "output_type": "execute_result"
    }
   ],
   "source": [
    "### 1. EDA\n",
    "\n",
    "file_path = os.path.join(package_root, \"data\", \"lalonde.csv\")\n",
    "data = pd.read_csv(file_path)\n",
    "data.head()"
   ]
  },
  {
   "cell_type": "code",
   "execution_count": 4,
   "id": "0017124f-80d9-4638-adf5-33d42b2ae601",
   "metadata": {},
   "outputs": [
    {
     "name": "stdout",
     "output_type": "stream",
     "text": [
      "<class 'pandas.core.frame.DataFrame'>\n",
      "RangeIndex: 614 entries, 0 to 613\n",
      "Data columns (total 10 columns):\n",
      " #   Column    Non-Null Count  Dtype  \n",
      "---  ------    --------------  -----  \n",
      " 0   treat     614 non-null    int64  \n",
      " 1   age       614 non-null    int64  \n",
      " 2   educ      614 non-null    int64  \n",
      " 3   black     614 non-null    int64  \n",
      " 4   hispan    614 non-null    int64  \n",
      " 5   married   614 non-null    int64  \n",
      " 6   nodegree  614 non-null    int64  \n",
      " 7   re74      614 non-null    float64\n",
      " 8   re75      614 non-null    float64\n",
      " 9   re78      614 non-null    float64\n",
      "dtypes: float64(3), int64(7)\n",
      "memory usage: 48.1 KB\n"
     ]
    }
   ],
   "source": [
    "# 1.1 Data completeness and target balance\n",
    "\n",
    "# We'll see here that there are no missing data\n",
    "data.info()"
   ]
  },
  {
   "cell_type": "code",
   "execution_count": 5,
   "id": "ea1208ba-f176-4377-a1ed-9ef98f62287e",
   "metadata": {},
   "outputs": [
    {
     "data": {
      "text/plain": [
       "treat\n",
       "0    429\n",
       "1    185\n",
       "Name: treat, dtype: int64"
      ]
     },
     "execution_count": 5,
     "metadata": {},
     "output_type": "execute_result"
    }
   ],
   "source": [
    "data.groupby('treat').treat.count()"
   ]
  },
  {
   "cell_type": "code",
   "execution_count": 6,
   "id": "bdb00e9c-1ee1-46d3-945a-64fd09c9b729",
   "metadata": {},
   "outputs": [
    {
     "data": {
      "text/plain": [
       "treat\n",
       "0    Axes(0.125,0.11;0.775x0.77)\n",
       "1    Axes(0.125,0.11;0.775x0.77)\n",
       "Name: re78, dtype: object"
      ]
     },
     "execution_count": 6,
     "metadata": {},
     "output_type": "execute_result"
    },
    {
     "data": {
      "image/png": "[encoded data removed]",
      "text/plain": [
       "<Figure size 640x480 with 1 Axes>"
      ]
     },
     "metadata": {},
     "output_type": "display_data"
    }
   ],
   "source": [
    "### 1.2. Visualization\n",
    "# Let's just simply see if the output (income in 1978: re78) is related to the input variable of target (job training: treat)\n",
    "\n",
    "data.groupby('treat').re78.plot.hist(alpha = 0.5, legend = True)"
   ]
  },
  {
   "cell_type": "code",
   "execution_count": 7,
   "id": "25a52887-b5b3-4e4f-9493-d6795431b3a2",
   "metadata": {},
   "outputs": [
    {
     "data": {
      "text/plain": [
       "<Axes: title={'center': 're78'}, xlabel='treat'>"
      ]
     },
     "execution_count": 7,
     "metadata": {},
     "output_type": "execute_result"
    },
    {
     "data": {
      "image/png": "[encoded data removed]",
      "text/plain": [
       "<Figure size 640x480 with 1 Axes>"
      ]
     },
     "metadata": {},
     "output_type": "display_data"
    }
   ],
   "source": [
    "data.boxplot(column = 're78', by = 'treat')"
   ]
  },
  {
   "cell_type": "markdown",
   "id": "b16887f7-ee9e-448b-b510-b0b3238a6dea",
   "metadata": {},
   "source": [
    "### 1.3 EDA conclusion\n",
    "\n",
    "1. The number of treated individuals in about (185/429)45% of untreated ones\n",
    "2. The graphs show that treatment have been of positive impact on individual incomes.\n",
    "3. To evaluate the impact more accuratel the covariates (re74 and re75) should be taken into account too.\n",
    "\n",
    "\n",
    "### 2. Causal inference  using dowhy library\n",
    "\n",
    "Variables can be grouped as:\n",
    "\n",
    "confounder: should control/condition both the under study independent variable and the target\n",
    "collider: should not control anything\n",
    "mediator: should not control (the target is affected by the independent variable through a mediator)\n"
   ]
  },
  {
   "cell_type": "code",
   "execution_count": 8,
   "id": "6efc73c0-9d59-4bfb-8bf1-927d8f370de5",
   "metadata": {},
   "outputs": [],
   "source": [
    "# 2.1 Define the Causal Model: Specify the treatment, outcome, and covariates:\n",
    "# Note: Age is of little effect on getting a training or income, so we can consider it a cllider not a confounder\n",
    "\n",
    "model = CausalModel(\n",
    "    data=data,\n",
    "    treatment='treat',\n",
    "    outcome='re78',\n",
    "    common_causes=['educ', 'black', 'hispan', 'married', 'nodegree', 're74', 're75']\n",
    ")"
   ]
  },
  {
   "cell_type": "code",
   "execution_count": 9,
   "id": "61650b4e-27be-48d0-b436-965ea159ba69",
   "metadata": {},
   "outputs": [
    {
     "name": "stdout",
     "output_type": "stream",
     "text": [
      "Estimand type: EstimandType.NONPARAMETRIC_ATE\n",
      "\n",
      "### Estimand : 1\n",
      "Estimand name: backdoor\n",
      "Estimand expression:\n",
      "   d                                                          \n",
      "────────(E[re78|black,married,educ,nodegree,hispan,re74,re75])\n",
      "d[treat]                                                      \n",
      "Estimand assumption 1, Unconfoundedness: If U→{treat} and U→re78 then P(re78|treat,black,married,educ,nodegree,hispan,re74,re75,U) = P(re78|treat,black,married,educ,nodegree,hispan,re74,re75)\n",
      "\n",
      "### Estimand : 2\n",
      "Estimand name: iv\n",
      "No such variable(s) found!\n",
      "\n",
      "### Estimand : 3\n",
      "Estimand name: frontdoor\n",
      "No such variable(s) found!\n",
      "\n"
     ]
    }
   ],
   "source": [
    "# First we need to identify the estimand (the quantity that we are going to estimate)\n",
    "\n",
    "identified_estimand = model.identify_effect(proceed_when_unidentifiable = True)\n",
    "print(identified_estimand)"
   ]
  },
  {
   "cell_type": "code",
   "execution_count": 10,
   "id": "f00c00c4-2270-434c-ad5f-3186c342c7ab",
   "metadata": {},
   "outputs": [
    {
     "name": "stdout",
     "output_type": "stream",
     "text": [
      "The average stimated effect of training on income is: $1564.69\n"
     ]
    }
   ],
   "source": [
    "# And then estimate the causal effect in terms of ATE (average treatment effect)\n",
    "\n",
    "desired_effect = \"ate\"\n",
    "method = \"backdoor.linear_regression\"\n",
    "# method = \"backdoor.propensity_score_matching\"\n",
    "\n",
    "estimate = model.estimate_effect(identified_estimand,\n",
    "                                 method_name = method,\n",
    "                                target_units = desired_effect,\n",
    "                                method_params = {\"weighting_scheme\" : \"ips_weight\"})\n",
    "print(f\"The average stimated effect of training on income is: ${estimate.value:.2f}\")"
   ]
  },
  {
   "cell_type": "markdown",
   "id": "95960472-6540-493e-93c1-16eaa137c2e0",
   "metadata": {},
   "source": [
    "### 3. Refutation: how confident can we be that the effect is real?\n",
    "\n",
    "There are three main techniques to refute the finding (to see if the obtained result can be refused):\n",
    "\n",
    "1. Bootstrap stability and significance test given permuted outcomes (evaluate the causality with various subsets of data (bootstraps) \n",
    "2. Permute treatment refutation: does the effect disapear? (permute the treat and see if we still get the similar effect)\n",
    "3. Add unobserved confounder: is the effect stable? (add new variables to see if it affects the seen effect)"
   ]
  },
  {
   "cell_type": "code",
   "execution_count": 11,
   "id": "22a090bf-0a6b-472c-8d21-65f527a5b1b8",
   "metadata": {},
   "outputs": [
    {
     "name": "stdout",
     "output_type": "stream",
     "text": [
      "Refute: Use a Placebo Treatment\n",
      "Estimated effect:1564.6889602182955\n",
      "New effect:-70.59484734078093\n",
      "p value:0.96\n",
      "\n"
     ]
    }
   ],
   "source": [
    "# We'll permute the treat to see if a close effect still can be seen. If so, the observed effect was random. \n",
    "\n",
    "refute_results = model.refute_estimate(identified_estimand, estimate,\n",
    "                                       method_name=\"placebo_treatment_refuter\")\n",
    "print(refute_results)\n"
   ]
  },
  {
   "cell_type": "code",
   "execution_count": 23,
   "id": "b0fe9fa0-5cf0-424c-9d2d-6ed4cac1725a",
   "metadata": {},
   "outputs": [
    {
     "name": "stdout",
     "output_type": "stream",
     "text": [
      "The estimated ATE is statistically strong and can not be refuted.\n",
      "Refuter p-value: 0.96\n"
     ]
    }
   ],
   "source": [
    "p_value = refute_results.refutation_result.get('p_value', None)\n",
    "if p_value <= 0.05:\n",
    "    print(\"The estimated ATE is statistically strong and can be refuted.\")\n",
    "else:\n",
    "    print(\"The estimated ATE is statistically strong and can not be refuted.\")\n",
    "    print(\"Refuter p-value:\", p_value)\n"
   ]
  },
  {
   "cell_type": "markdown",
   "id": "65be252a-ad3c-459f-8801-1b174b5f9738",
   "metadata": {},
   "source": [
    "### 4. Conclusion\n",
    "\n",
    "The study using causal inference showed that training has a direct and clear effect of the income level. A try to refute the outcome using permutation of the treat (the pressumed cause) failed as it changed the result from 1564 to -70. Also, the high p-value of the permutation proves that the permutation result is not statistically significant."
   ]
  },
  {
   "cell_type": "code",
   "execution_count": null,
   "id": "4892aa20-4855-4265-a6aa-3f3283638985",
   "metadata": {},
   "outputs": [],
   "source": []
  },
  {
   "cell_type": "markdown",
   "id": "868d9977-7a70-4674-84f8-547f2768afd0",
   "metadata": {},
   "source": [
    "### Alternative method\n",
    "\n",
    "Instead of using a specialized library like dowhy or pywhy, the causal effect can be studied and measured using a two satge approach:\n",
    "1. score the variable of interest (here treat) using confounders\n",
    "2. find the candidates in the control group that are closest to candidates in the target group. Then compare their average incomes.\n",
    "\n",
    "The idea in this approach is finding a sample (person) in the control group that is under almost same influnce by the confunders. This will eliminate (or minimize) the confunder effect in the study. Let's call the found control candidates matched_control. Now, the difference between the income of the target (treated) group and this matched_control group will represent the Average Treatment Effect (ATE).\n"
   ]
  },
  {
   "cell_type": "code",
   "execution_count": 12,
   "id": "73ec1766-5d40-43c0-87d8-491565caec41",
   "metadata": {},
   "outputs": [],
   "source": [
    "# Step 1: Let's first estimate propensity scores for the input variable of interest (treat) based on confounders\n",
    "\n",
    "features = ['educ', 'black', 'hispan', 'married', 'nodegree', 're74', 're75']\n",
    "X = data[features]\n",
    "y = data['treat']\n",
    "\n",
    "model = LogisticRegression()\n",
    "data['propensity_score'] = model.fit(X, y).predict_proba(X)[:, 1]"
   ]
  },
  {
   "cell_type": "code",
   "execution_count": 13,
   "id": "52b85a98-b238-4ada-ac70-7a481b5a1326",
   "metadata": {},
   "outputs": [],
   "source": [
    "# Step 2: Match each treated individual with a control sample based on their score adjacency\n",
    "\n",
    "treated = data[data['treat'] == 1]\n",
    "control = data[data['treat'] == 0]\n",
    "    # Fit the model to propensity scores of the control group\n",
    "nn = NearestNeighbors(n_neighbors=1).fit(control[['propensity_score']])\n",
    "    # Find items of the control group that have the closest score to the treated group \n",
    "distances, indices = nn.kneighbors(treated[['propensity_score']])\n",
    "    # So, for each person in treated group, we'll have a matching (in score) person in the control group \n",
    "matched_controls = control.iloc[indices.flatten()]"
   ]
  },
  {
   "cell_type": "code",
   "execution_count": 14,
   "id": "273b55d8-d137-4c7b-a0bd-4d9e3b1fe50c",
   "metadata": {},
   "outputs": [
    {
     "name": "stdout",
     "output_type": "stream",
     "text": [
      "Average Treatment Effect on the Treated (ATT): 2714.040026054054\n"
     ]
    }
   ],
   "source": [
    "# Step 3: No, we estimate the treatment effect. This effect is on minimum influence by confounders.\n",
    "att = treated['re78'].values - matched_controls['re78'].values\n",
    "print(\"Average Treatment Effect on the Treated (ATT):\", att.mean())\n"
   ]
  },
  {
   "cell_type": "markdown",
   "id": "d9a011bf-e73f-4c0a-b6e9-1311e93ff6cb",
   "metadata": {},
   "source": [
    "### Conclusion on the alternative method\n",
    "\n",
    "1. It is more interpretable (not a black box like (doway)\n",
    "2. The estimated effect (ATE) is not same of dowhy's, however they are of the same order."
   ]
  },
  {
   "cell_type": "code",
   "execution_count": null,
   "id": "b82850de-20fc-473a-8afe-353e89d45d20",
   "metadata": {},
   "outputs": [],
   "source": []
  }
 ],
 "metadata": {
  "kernelspec": {
   "display_name": "training_earning_env",
   "language": "python",
   "name": "training_earning_env"
  },
  "language_info": {
   "codemirror_mode": {
    "name": "ipython",
    "version": 3
   },
   "file_extension": ".py",
   "mimetype": "text/x-python",
   "name": "python",
   "nbconvert_exporter": "python",
   "pygments_lexer": "ipython3",
   "version": "3.11.7"
  }
 },
 "nbformat": 4,
 "nbformat_minor": 5
}
